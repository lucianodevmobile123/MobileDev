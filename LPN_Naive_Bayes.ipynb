{
  "nbformat": 4,
  "nbformat_minor": 0,
  "metadata": {
    "colab": {
      "provenance": [],
      "authorship_tag": "ABX9TyMPuM5BqzKXnidboYg3gzaV",
      "include_colab_link": true
    },
    "kernelspec": {
      "name": "python3",
      "display_name": "Python 3"
    },
    "language_info": {
      "name": "python"
    }
  },
  "cells": [
    {
      "cell_type": "markdown",
      "metadata": {
        "id": "view-in-github",
        "colab_type": "text"
      },
      "source": [
        "<a href=\"https://colab.research.google.com/github/lucianodevmobile123/MobileDev/blob/main/LPN_Naive_Bayes.ipynb\" target=\"_parent\"><img src=\"https://colab.research.google.com/assets/colab-badge.svg\" alt=\"Open In Colab\"/></a>"
      ]
    },
    {
      "cell_type": "code",
      "execution_count": 1,
      "metadata": {
        "colab": {
          "base_uri": "https://localhost:8080/",
          "height": 472
        },
        "id": "Co5niwaG8M3-",
        "outputId": "702755c0-2061-4713-8554-256b2b16a9b6",
        "collapsed": true
      },
      "outputs": [
        {
          "output_type": "display_data",
          "data": {
            "text/plain": [
              "<IPython.core.display.HTML object>"
            ],
            "text/html": [
              "\n",
              "     <input type=\"file\" id=\"files-ab2ed077-306e-429c-8eef-fa4b7793d366\" name=\"files[]\" multiple disabled\n",
              "        style=\"border:none\" />\n",
              "     <output id=\"result-ab2ed077-306e-429c-8eef-fa4b7793d366\">\n",
              "      Upload widget is only available when the cell has been executed in the\n",
              "      current browser session. Please rerun this cell to enable.\n",
              "      </output>\n",
              "      <script>// Copyright 2017 Google LLC\n",
              "//\n",
              "// Licensed under the Apache License, Version 2.0 (the \"License\");\n",
              "// you may not use this file except in compliance with the License.\n",
              "// You may obtain a copy of the License at\n",
              "//\n",
              "//      http://www.apache.org/licenses/LICENSE-2.0\n",
              "//\n",
              "// Unless required by applicable law or agreed to in writing, software\n",
              "// distributed under the License is distributed on an \"AS IS\" BASIS,\n",
              "// WITHOUT WARRANTIES OR CONDITIONS OF ANY KIND, either express or implied.\n",
              "// See the License for the specific language governing permissions and\n",
              "// limitations under the License.\n",
              "\n",
              "/**\n",
              " * @fileoverview Helpers for google.colab Python module.\n",
              " */\n",
              "(function(scope) {\n",
              "function span(text, styleAttributes = {}) {\n",
              "  const element = document.createElement('span');\n",
              "  element.textContent = text;\n",
              "  for (const key of Object.keys(styleAttributes)) {\n",
              "    element.style[key] = styleAttributes[key];\n",
              "  }\n",
              "  return element;\n",
              "}\n",
              "\n",
              "// Max number of bytes which will be uploaded at a time.\n",
              "const MAX_PAYLOAD_SIZE = 100 * 1024;\n",
              "\n",
              "function _uploadFiles(inputId, outputId) {\n",
              "  const steps = uploadFilesStep(inputId, outputId);\n",
              "  const outputElement = document.getElementById(outputId);\n",
              "  // Cache steps on the outputElement to make it available for the next call\n",
              "  // to uploadFilesContinue from Python.\n",
              "  outputElement.steps = steps;\n",
              "\n",
              "  return _uploadFilesContinue(outputId);\n",
              "}\n",
              "\n",
              "// This is roughly an async generator (not supported in the browser yet),\n",
              "// where there are multiple asynchronous steps and the Python side is going\n",
              "// to poll for completion of each step.\n",
              "// This uses a Promise to block the python side on completion of each step,\n",
              "// then passes the result of the previous step as the input to the next step.\n",
              "function _uploadFilesContinue(outputId) {\n",
              "  const outputElement = document.getElementById(outputId);\n",
              "  const steps = outputElement.steps;\n",
              "\n",
              "  const next = steps.next(outputElement.lastPromiseValue);\n",
              "  return Promise.resolve(next.value.promise).then((value) => {\n",
              "    // Cache the last promise value to make it available to the next\n",
              "    // step of the generator.\n",
              "    outputElement.lastPromiseValue = value;\n",
              "    return next.value.response;\n",
              "  });\n",
              "}\n",
              "\n",
              "/**\n",
              " * Generator function which is called between each async step of the upload\n",
              " * process.\n",
              " * @param {string} inputId Element ID of the input file picker element.\n",
              " * @param {string} outputId Element ID of the output display.\n",
              " * @return {!Iterable<!Object>} Iterable of next steps.\n",
              " */\n",
              "function* uploadFilesStep(inputId, outputId) {\n",
              "  const inputElement = document.getElementById(inputId);\n",
              "  inputElement.disabled = false;\n",
              "\n",
              "  const outputElement = document.getElementById(outputId);\n",
              "  outputElement.innerHTML = '';\n",
              "\n",
              "  const pickedPromise = new Promise((resolve) => {\n",
              "    inputElement.addEventListener('change', (e) => {\n",
              "      resolve(e.target.files);\n",
              "    });\n",
              "  });\n",
              "\n",
              "  const cancel = document.createElement('button');\n",
              "  inputElement.parentElement.appendChild(cancel);\n",
              "  cancel.textContent = 'Cancel upload';\n",
              "  const cancelPromise = new Promise((resolve) => {\n",
              "    cancel.onclick = () => {\n",
              "      resolve(null);\n",
              "    };\n",
              "  });\n",
              "\n",
              "  // Wait for the user to pick the files.\n",
              "  const files = yield {\n",
              "    promise: Promise.race([pickedPromise, cancelPromise]),\n",
              "    response: {\n",
              "      action: 'starting',\n",
              "    }\n",
              "  };\n",
              "\n",
              "  cancel.remove();\n",
              "\n",
              "  // Disable the input element since further picks are not allowed.\n",
              "  inputElement.disabled = true;\n",
              "\n",
              "  if (!files) {\n",
              "    return {\n",
              "      response: {\n",
              "        action: 'complete',\n",
              "      }\n",
              "    };\n",
              "  }\n",
              "\n",
              "  for (const file of files) {\n",
              "    const li = document.createElement('li');\n",
              "    li.append(span(file.name, {fontWeight: 'bold'}));\n",
              "    li.append(span(\n",
              "        `(${file.type || 'n/a'}) - ${file.size} bytes, ` +\n",
              "        `last modified: ${\n",
              "            file.lastModifiedDate ? file.lastModifiedDate.toLocaleDateString() :\n",
              "                                    'n/a'} - `));\n",
              "    const percent = span('0% done');\n",
              "    li.appendChild(percent);\n",
              "\n",
              "    outputElement.appendChild(li);\n",
              "\n",
              "    const fileDataPromise = new Promise((resolve) => {\n",
              "      const reader = new FileReader();\n",
              "      reader.onload = (e) => {\n",
              "        resolve(e.target.result);\n",
              "      };\n",
              "      reader.readAsArrayBuffer(file);\n",
              "    });\n",
              "    // Wait for the data to be ready.\n",
              "    let fileData = yield {\n",
              "      promise: fileDataPromise,\n",
              "      response: {\n",
              "        action: 'continue',\n",
              "      }\n",
              "    };\n",
              "\n",
              "    // Use a chunked sending to avoid message size limits. See b/62115660.\n",
              "    let position = 0;\n",
              "    do {\n",
              "      const length = Math.min(fileData.byteLength - position, MAX_PAYLOAD_SIZE);\n",
              "      const chunk = new Uint8Array(fileData, position, length);\n",
              "      position += length;\n",
              "\n",
              "      const base64 = btoa(String.fromCharCode.apply(null, chunk));\n",
              "      yield {\n",
              "        response: {\n",
              "          action: 'append',\n",
              "          file: file.name,\n",
              "          data: base64,\n",
              "        },\n",
              "      };\n",
              "\n",
              "      let percentDone = fileData.byteLength === 0 ?\n",
              "          100 :\n",
              "          Math.round((position / fileData.byteLength) * 100);\n",
              "      percent.textContent = `${percentDone}% done`;\n",
              "\n",
              "    } while (position < fileData.byteLength);\n",
              "  }\n",
              "\n",
              "  // All done.\n",
              "  yield {\n",
              "    response: {\n",
              "      action: 'complete',\n",
              "    }\n",
              "  };\n",
              "}\n",
              "\n",
              "scope.google = scope.google || {};\n",
              "scope.google.colab = scope.google.colab || {};\n",
              "scope.google.colab._files = {\n",
              "  _uploadFiles,\n",
              "  _uploadFilesContinue,\n",
              "};\n",
              "})(self);\n",
              "</script> "
            ]
          },
          "metadata": {}
        },
        {
          "output_type": "stream",
          "name": "stdout",
          "text": [
            "Saving detect_language_dataset_expanded_clean_fixed.csv to detect_language_dataset_expanded_clean_fixed.csv\n",
            "Amostra dos dados:\n",
            "                       text lang\n",
            "0  Ich liebe programmieren.   de\n",
            "1  Ich liebe programmieren.   de\n",
            "2  Ich liebe programmieren.   de\n",
            "3  Ich liebe programmieren.   de\n",
            "4             Guten Morgen!   de\n",
            "\n",
            "Idiomas únicos e contagem:\n",
            "lang\n",
            "ja      50\n",
            "zh      49\n",
            "de      35\n",
            "es      35\n",
            "en      35\n",
            "it      35\n",
            "fr      35\n",
            "ko      35\n",
            "pt      35\n",
            "ru      35\n",
            "lang     4\n",
            "Name: count, dtype: int64\n",
            "Total de idiomas únicos: 11\n"
          ]
        }
      ],
      "source": [
        "# 1. Upload do CSV\n",
        "from google.colab import files\n",
        "uploaded = files.upload()\n",
        "\n",
        "import pandas as pd\n",
        "import io\n",
        "\n",
        "# 2. Leitura do CSV\n",
        "file_name = list(uploaded.keys())[0]\n",
        "df = pd.read_csv(io.BytesIO(uploaded[file_name]))\n",
        "\n",
        "# 3. Visualização inicial\n",
        "print(\"Amostra dos dados:\")\n",
        "print(df.head())\n",
        "\n",
        "# Verificação de idiomas presentes\n",
        "print(\"\\nIdiomas únicos e contagem:\")\n",
        "print(df['lang'].value_counts())\n",
        "print(f\"Total de idiomas únicos: {df['lang'].nunique()}\")\n"
      ]
    },
    {
      "cell_type": "code",
      "source": [
        "# 4. Pré-processamento e Vetorização\n",
        "from sklearn.feature_extraction.text import TfidfVectorizer\n",
        "from sklearn.model_selection import train_test_split\n",
        "\n",
        "texts = df['text'].astype(str)   # Garante que é string\n",
        "labels = df['lang'].astype(str)  # Garante que é string\n",
        "\n",
        "# Vetorizador baseado em n-gramas de caracteres (ideal para detecção de idioma)\n",
        "vectorizer = TfidfVectorizer(analyzer='char', ngram_range=(1, 3))\n",
        "x = vectorizer.fit_transform(texts).toarray()\n",
        "y = labels.values\n",
        "\n",
        "# 5. Separação treino/teste\n",
        "train_x, test_x, train_y, test_y = train_test_split(\n",
        "    x, y, test_size=0.4, stratify=y, random_state=42\n",
        ")\n",
        "\n",
        "\n",
        "print(\"Vetorização e divisão de dados concluídas!\")\n"
      ],
      "metadata": {
        "colab": {
          "base_uri": "https://localhost:8080/"
        },
        "collapsed": true,
        "id": "-h9I5vMU8P6z",
        "outputId": "544ea09a-651b-473b-e709-3840816f9bf1"
      },
      "execution_count": 2,
      "outputs": [
        {
          "output_type": "stream",
          "name": "stdout",
          "text": [
            "Vetorização e divisão de dados concluídas!\n"
          ]
        }
      ]
    },
    {
      "cell_type": "code",
      "source": [
        "# 6. Treinamento com Naive Bayes\n",
        "from sklearn.naive_bayes import GaussianNB\n",
        "\n",
        "model = GaussianNB()\n",
        "model.fit(train_x, train_y)\n",
        "\n",
        "print(\"Modelo treinado com sucesso!\")\n"
      ],
      "metadata": {
        "colab": {
          "base_uri": "https://localhost:8080/"
        },
        "id": "VKSOEElb8VcP",
        "outputId": "53b39410-6b7c-4734-c6bc-75ad43a749af"
      },
      "execution_count": 3,
      "outputs": [
        {
          "output_type": "stream",
          "name": "stdout",
          "text": [
            "Modelo treinado com sucesso!\n"
          ]
        }
      ]
    },
    {
      "cell_type": "code",
      "source": [
        "# 7. Avaliação do Modelo\n",
        "from sklearn.metrics import confusion_matrix, classification_report, accuracy_score\n",
        "import seaborn as sns\n",
        "import matplotlib.pyplot as plt\n",
        "\n",
        "def avaliar_modelo(model, x, y, nome_conjunto=\"Teste\"):\n",
        "    pred = model.predict(x)\n",
        "    mat = confusion_matrix(y, pred, labels=model.classes_)\n",
        "    sns.heatmap(mat.T, square=True, annot=True, fmt='d', cbar=False,\n",
        "                xticklabels=model.classes_, yticklabels=model.classes_)\n",
        "    plt.title(f\"Matriz de Confusão - {nome_conjunto}\")\n",
        "    plt.xlabel('Real')\n",
        "    plt.ylabel('Estimado')\n",
        "    plt.show()\n",
        "\n",
        "    print(f\"Relatório ({nome_conjunto}):\\n\", classification_report(y, pred))\n",
        "    print(f\"Acurácia ({nome_conjunto}):\", accuracy_score(y, pred))\n",
        "    print(\"\\n\")\n",
        "\n",
        "# Avaliação no conjunto de treino\n",
        "avaliar_modelo(model, train_x, train_y, nome_conjunto=\"Treino\")\n",
        "\n",
        "# Avaliação no conjunto de teste\n",
        "avaliar_modelo(model, test_x, test_y, nome_conjunto=\"Teste\")\n"
      ],
      "metadata": {
        "colab": {
          "base_uri": "https://localhost:8080/",
          "height": 1000
        },
        "id": "nbGwrbZa8a5x",
        "outputId": "a6b61ac7-6066-4558-95a6-db075a6d7c18",
        "collapsed": true
      },
      "execution_count": 4,
      "outputs": [
        {
          "output_type": "display_data",
          "data": {
            "text/plain": [
              "<Figure size 640x480 with 1 Axes>"
            ],
            "image/png": "[encoded data removed]"
          },
          "metadata": {}
        },
        {
          "output_type": "stream",
          "name": "stdout",
          "text": [
            "Relatório (Treino):\n",
            "               precision    recall  f1-score   support\n",
            "\n",
            "          de       1.00      1.00      1.00        21\n",
            "          en       1.00      1.00      1.00        21\n",
            "          es       1.00      1.00      1.00        21\n",
            "          fr       1.00      1.00      1.00        21\n",
            "          it       1.00      1.00      1.00        21\n",
            "          ja       1.00      1.00      1.00        30\n",
            "          ko       1.00      1.00      1.00        21\n",
            "        lang       1.00      1.00      1.00         2\n",
            "          pt       1.00      1.00      1.00        21\n",
            "          ru       1.00      1.00      1.00        21\n",
            "          zh       1.00      1.00      1.00        29\n",
            "\n",
            "    accuracy                           1.00       229\n",
            "   macro avg       1.00      1.00      1.00       229\n",
            "weighted avg       1.00      1.00      1.00       229\n",
            "\n",
            "Acurácia (Treino): 1.0\n",
            "\n",
            "\n"
          ]
        },
        {
          "output_type": "display_data",
          "data": {
            "text/plain": [
              "<Figure size 640x480 with 1 Axes>"
            ],
            "image/png": "[encoded data removed]"
          },
          "metadata": {}
        },
        {
          "output_type": "stream",
          "name": "stdout",
          "text": [
            "Relatório (Teste):\n",
            "               precision    recall  f1-score   support\n",
            "\n",
            "          de       1.00      1.00      1.00        14\n",
            "          en       1.00      1.00      1.00        14\n",
            "          es       1.00      1.00      1.00        14\n",
            "          fr       1.00      1.00      1.00        14\n",
            "          it       1.00      1.00      1.00        14\n",
            "          ja       1.00      1.00      1.00        20\n",
            "          ko       1.00      1.00      1.00        14\n",
            "        lang       1.00      1.00      1.00         2\n",
            "          pt       1.00      1.00      1.00        14\n",
            "          ru       1.00      1.00      1.00        14\n",
            "          zh       1.00      1.00      1.00        20\n",
            "\n",
            "    accuracy                           1.00       154\n",
            "   macro avg       1.00      1.00      1.00       154\n",
            "weighted avg       1.00      1.00      1.00       154\n",
            "\n",
            "Acurácia (Teste): 1.0\n",
            "\n",
            "\n"
          ]
        }
      ]
    }
  ]
}